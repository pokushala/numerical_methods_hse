{
 "cells": [
  {
   "cell_type": "markdown",
   "metadata": {},
   "source": [
    "### Численные методы ЛР3 (решение СЛАУ прямыми методами), задача 3.1. \n",
    "\n",
    "### Якименко Александра (32 в списке группы). Выполняемые задачи, согласно приложению 3А: 3.1.2.\n",
    "\n",
    "\n",
    "## Задача 3.1. (вариант 2)\n",
    "Дана система уравнений $Ax=b$ порядка $n$. Исследовать зависимость погрешности решения $x$ от погрешностей  правой части системы $b$.   \n",
    "          \n",
    "#### ПОРЯДОК  РЕШЕНИЯ  ЗАДАЧИ:\n",
    "* Задать матрицу системы $A$ и вектор правой части $b$. Составить программу, реализующую метод Гаусса (схема частичного выбора) для произвольной системы $Ax=b$. Используя составленную программу, найти решение заданной системы $Ax=b$. Используя встроенную функцию, найти решение $x$ системы $Ax=b$ с помощью метода Гаусса.\n",
    "\n",
    "* С помощью встроенной функции вычислить число обусловленности матрицы  $A$.\n",
    "\n",
    "* Принимая решение $x$, полученное в п. 1, за точное, вычислить вектор $d=(d_1,\\dots,d_n)^T$, $d_i=\\frac{||x-x^i||_\\infty}{||x||_\\infty}$, $i=1,\\dots,n$, относительных погрешностей решений $x^i$ систем $Ax^i=b^i$, $i=1,\\dots,n$, где  компоненты векторов $b^i$ вычисляются по формулам: $ b_k^i=\n",
    "    \\begin{cases} \n",
    "      b_k+\\Delta, \\ k=i \\\\\n",
    "      b_k, \\ k\\neq i \n",
    "   \\end{cases}\n",
    "$, $k=1,\\dots,n; \\ \\ (\\Delta$ - произвольная величина погрешности).\n",
    "\n",
    "*  На основе вычисленного вектора $d$ построить гистограмму. По гистограмме определить компоненту $b_m$ вектора $b$, которая оказывает наибольшее влияние на погрешность решения. \n",
    "\n",
    "* Оценить теоретически погрешность решения $x^m$ по  формуле: $\\delta(x^m)\\leq cond(A)\\cdot\\delta(b^m)$. Сравнить значение $\\delta(x^m)$ со значением практической погрешности $d_m$. Объяснить полученные результаты.\n",
    "\n",
    "УКАЗАНИЕ. Функция $condi(A)$ возвращает число обусловленности матрицы $A$, основанное на $\\infty$-норме. Для вычисления удобно воспользоваться встроенной функцией, возвращающей максимальную компоненту вектора $v$.\n"
   ]
  },
  {
   "cell_type": "markdown",
   "metadata": {},
   "source": [
    "## 1.Решение системы методом Гаусса и встроенным методом.\n",
    "\n",
    "Задать матрицу системы $A$ и вектор правой части $b$. Составить программу, реализующую метод Гаусса (схема частичного выбора) для произвольной системы $Ax=b$. Используя составленную программу, найти решение заданной системы $Ax=b$. Используя встроенную функцию, найти решение $x$ системы $Ax=b$ с помощью метода Гаусса."
   ]
  },
  {
   "cell_type": "markdown",
   "metadata": {},
   "source": [
    "$b_i = N, \\ \\ \\forall i = 1 \\dots n$\n",
    "\n",
    "$n = 6, \\ \\ a_{ij}\\frac{125}{(4+c 0.25)^6}$\n",
    "\n",
    "где $c = c_{ij} = 0.1\\cdot N\\cdot i\\cdot j, \\ \\ \\forall i,j = 1 \\dots n, \\ \\ N = 2$- номер варианта"
   ]
  },
  {
   "cell_type": "code",
   "execution_count": 1,
   "metadata": {
    "collapsed": true
   },
   "outputs": [],
   "source": [
    "%matplotlib inline\n",
    "import matplotlib.pyplot as plt\n",
    "import numpy as np\n",
    "\n",
    "N = 2\n",
    "n = 6\n",
    "b = np.empty([n, 1], dtype=int)\n",
    "b.fill(N)\n",
    "#c = np.arange(1,37).reshape(n,n)\n",
    "c = np.fromfunction(lambda i, j: 0.1*(i+1)*(j+1)*N, (n, n), dtype=int)\n",
    "A = 125/(4 + 0.25*c)**6"
   ]
  },
  {
   "cell_type": "markdown",
   "metadata": {},
   "source": [
    "### Алгоритм\n",
    "\n",
    "Дана матрица n x m.\n",
    "Необходимо с помощью следующих операций:\n",
    "Поменять местами две строки\n",
    "Прибавить к одной строке другую строку, умноженную на некоторое число\n",
    "получить матрицу, у которой левая нижняя часть относительно главной диагонали нулевая. Затем последовательно выразить неизвестные. \n",
    "\n",
    "#### Прямой ход\n",
    "Поставим на место первой строки такую строку матрицы, у которой первый элемент максимальный. Вычтем из всех остальных строк матрицы первую строку так, чтобы их первые элементы занулились. Решим эту же задачу для подматрицы $[2\\dots n][2 \\dots m]$, потом для подматрицы $[3\\dots n][3\\dots m]$ и так далее. В результате получим искомую матрицу.\n",
    "\n",
    "#### Обратный ход\n",
    "Затем включаем обратный ход, последовательно выражаем $x_n \\dots x_1$. В общем виде можно записать:\n",
    "\n",
    "$x_m = \\frac{b^{m-1}_m}{a^{m-1}_{mm}}$\n",
    "\n",
    "$x_k = \\frac{b^{k-1}_k - a^{k-1}_{k,k+1}x_{k+1} - a^{k-1}_{km}x_m}{a^{k-1}_{kk}}$"
   ]
  },
  {
   "cell_type": "code",
   "execution_count": 2,
   "metadata": {
    "collapsed": true
   },
   "outputs": [],
   "source": [
    "def gauss(A, b):\n",
    "    #приводим расширенную матрицу к ступенчатому виду\n",
    "    A_full = np.hstack((A, b))\n",
    "    n = A_full.shape[0]\n",
    "    for i in range(n): \n",
    "        #находим строку с максимальным первым элементом\n",
    "        iMax = np.argmax(A[:,i:], axis=0)[0] + i\n",
    "        #если строка с максимальным элементом не на первом месте меняем\n",
    "        if(iMax != i):\n",
    "            A_full[i], A_full[iMax] = A_full[iMax], A_full[i]\n",
    "        for j in range(i+1, n):\n",
    "            #из всех строк вычитаем отношение первых элементов умноженные на эту строку\n",
    "            A_full[j] -= A_full[j][i]/A_full[i][i]*A_full[i]\n",
    "    #теперь обратный ход, последовательно выражаем x_n ... x_1\n",
    "    x = np.empty_like(b, dtype = float)\n",
    "    for m in range(n-1, -1, -1):#начиная с конца\n",
    "        \n",
    "        x[m] = A_full[m, n:]/A_full[m][m]\n",
    "        #A_full[:m, A_full.shape[0]:] -= np.array([A_full[:m, m] * x[m]]).T\n",
    "        A_full[:m, n:] -= np.array([A_full[:m, m]]).T * x[m]\n",
    "    return x\n",
    "\n",
    "#x[m] = (A_full[:m, A_full.shape[0]:] - np.array([A_full[:m, m] * A_full[m-1][A_full.shape[0]]/A_full[m-1][m-1]]).T)/A_full[m][m]"
   ]
  },
  {
   "cell_type": "code",
   "execution_count": 1,
   "metadata": {},
   "outputs": [],
   "source": [
    "#A_full = np.hstack((A, bk))\n",
    "#A_full[2][5:]"
   ]
  },
  {
   "cell_type": "code",
   "execution_count": 3,
   "metadata": {},
   "outputs": [
    {
     "name": "stdout",
     "output_type": "stream",
     "text": [
      "решение методом Гаусса:x =\n",
      " [[  634.55255727]\n",
      " [-2489.26761742]\n",
      " [ 5081.29044251]\n",
      " [-5708.30702865]\n",
      " [ 3353.92805958]\n",
      " [ -806.77186169]]\n",
      "\n",
      "решение встроенной функцией:x =\n",
      " [[  634.55255726]\n",
      " [-2489.26761731]\n",
      " [ 5081.29044218]\n",
      " [-5708.30702818]\n",
      " [ 3353.92805925]\n",
      " [ -806.7718616 ]]\n"
     ]
    }
   ],
   "source": [
    "x = gauss(A, b)\n",
    "print('решение методом Гаусса:x =\\n', x)\n",
    "print('\\nрешение встроенной функцией:x =\\n', np.linalg.solve(A, b))"
   ]
  },
  {
   "cell_type": "markdown",
   "metadata": {},
   "source": [
    "## 2.Поиск числа обусловленности матрицы А.\n",
    "\n",
    "С помощью встроенной функции вычислить число обусловленности матрицы  $A$."
   ]
  },
  {
   "cell_type": "code",
   "execution_count": 4,
   "metadata": {},
   "outputs": [
    {
     "name": "stdout",
     "output_type": "stream",
     "text": [
      "число обусловленности матрицы А с использованием 1-нормы: 16644654.2618\n",
      "число обусловленности матрицы А с использованием inf-нормы: 16644654.2618\n"
     ]
    }
   ],
   "source": [
    "cond_1_A = np.linalg.cond(A, 1)\n",
    "cond_inf_A = np.linalg.cond(A, np.inf)\n",
    "print(\"число обусловленности матрицы А с использованием 1-нормы:\", cond_1_A)\n",
    "print(\"число обусловленности матрицы А с использованием inf-нормы:\", cond_inf_A)"
   ]
  },
  {
   "cell_type": "markdown",
   "metadata": {},
   "source": [
    "## 3.Вычисление относительных погрешностей.\n",
    "\n",
    "3. Принимая решение $x$, полученное в п. 1, за точное, вычислить вектор $d=(d_1,\\dots,d_n)^T$, $d_i=\\frac{||x-x^i||_\\infty}{||x||_\\infty}$, $i=1,\\dots,n$, относительных погрешностей решений $x^i$ систем $Ax^i=b^i$, $i=1,\\dots,n$, где  компоненты векторов $b^i$ вычисляются по формулам: $ b_k^i=\n",
    "    \\begin{cases} \n",
    "      b_k+\\Delta, \\ k=i \\\\\n",
    "      b_k, \\ k\\neq i \n",
    "   \\end{cases}\n",
    "$, $k=1,\\dots,n; \\ \\ (\\Delta$ - произвольная величина погрешности)."
   ]
  },
  {
   "cell_type": "code",
   "execution_count": 5,
   "metadata": {},
   "outputs": [
    {
     "name": "stdout",
     "output_type": "stream",
     "text": [
      "относительные погрешности d =  [  22.82280272  170.61174325  498.09451965  711.99174872  499.52722221\n",
      "  137.89105261]\n"
     ]
    }
   ],
   "source": [
    "delta = 0.1\n",
    "bk = b + np.eye(n)*delta\n",
    "xk = gauss(A, bk)\n",
    "d = np.linalg.norm(x-xk, np.inf, axis=0)/np.linalg.norm(x, np.inf, axis=0)\n",
    "#dk = abs(xk-x).max(axis = 0)/abs(x).max(axis = 0)\n",
    "print('относительные погрешности d = ', d)"
   ]
  },
  {
   "cell_type": "markdown",
   "metadata": {
    "collapsed": true
   },
   "source": [
    "## 4. Построение гистограммы.\n",
    "\n",
    "На основе вычисленного вектора $d$ построить гистограмму. По гистограмме определить компоненту $b_m$ вектора $b$, которая оказывает наибольшее влияние на погрешность решения."
   ]
  },
  {
   "cell_type": "code",
   "execution_count": 6,
   "metadata": {},
   "outputs": [
    {
     "data": {
      "image/png": "[encoded data removed]",
      "text/plain": [
       "<matplotlib.figure.Figure at 0x1dde7da3a20>"
      ]
     },
     "metadata": {},
     "output_type": "display_data"
    }
   ],
   "source": [
    "plt.bar(np.arange(d.shape[0]), d)\n",
    "plt.title(\"precision\")\n",
    "plt.show()"
   ]
  },
  {
   "cell_type": "markdown",
   "metadata": {},
   "source": [
    "#### b4 оказывает наибольшее влияние на погрешность решения"
   ]
  },
  {
   "cell_type": "markdown",
   "metadata": {},
   "source": [
    "## 5.Теоретическая оценка погрешности.\n",
    "\n",
    "Оценить теоретически погрешность решения $x^m$ по  формуле: $\\delta(x^m)\\leq cond(A)\\cdot\\delta(b^m)$. Сравнить значение $\\delta(x^m)$ со значением практической погрешности $d_m$. Объяснить полученные результаты."
   ]
  },
  {
   "cell_type": "code",
   "execution_count": 17,
   "metadata": {
    "collapsed": true
   },
   "outputs": [],
   "source": [
    "delta_b = np.zeros(b.shape[0])\n",
    "for i in range(b.shape[0]):\n",
    "    delta_b[i] = np.linalg.norm(b-np.array([bk[i]]).T, np.inf, axis=0)/np.linalg.norm(b, np.inf, axis=0)"
   ]
  },
  {
   "cell_type": "code",
   "execution_count": 18,
   "metadata": {
    "collapsed": true
   },
   "outputs": [],
   "source": [
    "delta_x = cond_1_A * delta_b"
   ]
  },
  {
   "cell_type": "code",
   "execution_count": 19,
   "metadata": {},
   "outputs": [
    {
     "name": "stdout",
     "output_type": "stream",
     "text": [
      "[ 832232.71308994  832232.71308994  832232.71308994  832232.71308994\n",
      "  832232.71308994  832232.71308994]\n"
     ]
    }
   ],
   "source": [
    "print(delta_x)"
   ]
  },
  {
   "cell_type": "markdown",
   "metadata": {
    "collapsed": true
   },
   "source": [
    "### Вывод\n",
    "Практическая погрешность меньше максимальной теоретической так как число обусловленностей велико"
   ]
  },
  {
   "cell_type": "markdown",
   "metadata": {},
   "source": [
    "### Черновик"
   ]
  },
  {
   "cell_type": "markdown",
   "metadata": {},
   "source": [
    "def gauss1(A, b):\n",
    "    #приводим расширенную матрицу к ступенчатому виду\n",
    "    A_full = np.hstack((A, b))\n",
    "    n = A_full.shape[0]\n",
    "    for i in range(n): \n",
    "        #находим строку с максимальным первым элементом\n",
    "        iMax = np.argmax(A[:,i:], axis=0)[0] + i\n",
    "        #если строка с максимальным элементом не на первом месте меняем\n",
    "        if(iMax != i):\n",
    "            A_full[i], A_full[iMax] = A_full[iMax], A_full[i]\n",
    "        for j in range(i+1, n):\n",
    "            #из всех последующих строк вычитаем отношение первых элементов умноженные на эту строку\n",
    "            A_full[j] -= A_full[j][i]/A_full[i][i]*A_full[i]\n",
    "    #теперь обратный ход, последовательно выражаем x_n ... x_1\n",
    "    x = np.empty_like(b, dtype = float)\n",
    "    for m in range(n-1, -1, -1):#начиная с конца до нуля\n",
    "        \n",
    "        x[m] = A_full[m][n]/A_full[m][m]\n",
    "        A_full[:m, n:] -= np.array([A_full[:m, m]]).T * x[m]\n",
    "    return x"
   ]
  },
  {
   "cell_type": "markdown",
   "metadata": {},
   "source": [
    "bk1 = b + np.eye(n)*delta\n",
    "#xk1 = np.zeros(bk1.shape[0])\n",
    "xk1 = np.empty_like(bk1, dtype = float)\n",
    "for i in range(bk1.shape[0]):\n",
    "    xk1[i] = gauss1(A, np.array([bk1[i]]).T).ravel()\n",
    "d1 = np.linalg.norm(x-xk1, np.inf, axis=0)/np.linalg.norm(x, np.inf, axis=0)\n",
    "#dk = abs(xk-x).max(axis = 0)/abs(x).max(axis = 0)\n",
    "print('относительные погрешности d = ', d1)"
   ]
  },
  {
   "cell_type": "markdown",
   "metadata": {},
   "source": [
    "x = gauss1(A, b)\n",
    "print('решение методом Гаусса:x =\\n', x)\n",
    "print('\\nрешение встроенной функцией:x =\\n', np.linalg.solve(A, b))"
   ]
  },
  {
   "cell_type": "code",
   "execution_count": 68,
   "metadata": {
    "collapsed": true
   },
   "outputs": [],
   "source": [
    "#(A2[:1, A2.shape[0]:]-np.array([A2[:1, 1] * A2[1][A2.shape[0]]/A2[1][1]]).T)/A2[1][1]"
   ]
  }
 ],
 "metadata": {
  "anaconda-cloud": {},
  "kernelspec": {
   "display_name": "Python 3",
   "language": "python",
   "name": "python3"
  },
  "language_info": {
   "codemirror_mode": {
    "name": "ipython",
    "version": 3
   },
   "file_extension": ".py",
   "mimetype": "text/x-python",
   "name": "python",
   "nbconvert_exporter": "python",
   "pygments_lexer": "ipython3",
   "version": "3.6.3"
  }
 },
 "nbformat": 4,
 "nbformat_minor": 1
}
