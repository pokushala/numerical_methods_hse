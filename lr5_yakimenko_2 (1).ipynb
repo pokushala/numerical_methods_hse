{
 "cells": [
  {
   "cell_type": "markdown",
   "metadata": {},
   "source": [
    "### Численные методы ЛР8 (численное интегрирование), задачи 8.1, 8.3. \n",
    "\n",
    "### Якименко Александра (32 в списке группы). Выполняемые задачи, согласно приложению 8А: 8.1.2, 8.3.1. "
   ]
  },
  {
   "cell_type": "markdown",
   "metadata": {},
   "source": [
    "# Задача 8.1 (вариант 2)\n",
    "Вычислить значение интеграла $I=\\int\\limits_1^{1.44} \\ P_n(x)dx$, где $P_n(x)=\\sum\\limits_{i=0}^n c_i x^i$, с помощью квадратурных формул трапеций и Симпсона для элементарного отрезка интегрирования. Оценить величину погрешности. Применяя те же квадратурные формулы для составного отрезка интегрирования, вычислить интеграл $I$ с точностью 0.0001. Предварительно оценить шаг интегрирования, при котором достигается заданная точность. \n",
    "\n",
    "            ПОРЯДОК РЕШЕНИЯ ЗАДАЧИ:\n",
    "1. Вычислить значение интеграла $I$ аналитически.\n",
    "2. Задать многочлен $P_n(x)$. Вычислить значение интеграла $I$ по формулам трапеций и Симпсона, считая отрезок $[1,1.44]$ элементарным отрезком интегрирования.\n",
    "3. Найти абсолютные погрешности результатов.\n",
    "4. Используя выражение для остаточных членов интегрирования (см. ПРИЛОЖЕНИЕ 8.C), оценить шаги интегрирования, при которых величина погрешности каждой квадратурной формулы будет меньше 0.0001.\n",
    "5. Вычислить значения интеграла по составной квадратурной формуле с найденным шагом (см. ПРИЛОЖЕНИЕ 8.B).\n",
    "6. Найти абсолютные погрешности результатов. "
   ]
  },
  {
   "cell_type": "markdown",
   "metadata": {},
   "source": [
    "$c_0 = 1; c_1 = 0.9; c_2 = 0.8; c_3 = 0.7; c_4 = 0.5$"
   ]
  },
  {
   "cell_type": "markdown",
   "metadata": {},
   "source": [
    "## 1. Вычислить значение интеграла $I$ аналитически."
   ]
  },
  {
   "cell_type": "markdown",
   "metadata": {},
   "source": [
    "$I=\\int\\limits_1^{1.44} \\ P_n(x)dx = \\int\\limits_1^{1.44}\\sum\\limits_{i=0}^n c_i x^i dx = \\sum\\limits_{i=0}^n c_i \\int\\limits_1^{1.44} x^i dx$\n",
    "\n",
    "$\\int\\limits_1^{1.44} x^i dx = \\frac{x^{i+1}}{i+1}\\big\\rvert^{1.44}_{1} = \\frac{1.44^{i+1}}{i+1} - \\frac{1^{i+1}}{i+1}$\n",
    "\n",
    "$I = \\sum\\limits_{i=0}^n c_i \\int\\limits_1^{1.44} x^i dx = \\sum\\limits_{i=0}^n \\frac{c_i}{i+1}(1.44^{i+1} - 1)$"
   ]
  },
  {
   "cell_type": "code",
   "execution_count": 1,
   "metadata": {},
   "outputs": [
    {
     "name": "stdout",
     "output_type": "stream",
     "text": [
      "Аналитическое решение I = 2.54935734357\n"
     ]
    }
   ],
   "source": [
    "import numpy as np\n",
    "\n",
    "c = np.array([1, 0.9, 0.8, 0.7, 0.5])\n",
    "a, b = (1, 1.44)\n",
    "I_sum = 0\n",
    "for i in range(len(c)):\n",
    "    I_sum +=c[i]/(i+1)*(1.44**(i+1)-1)\n",
    "\n",
    "print(\"Аналитическое решение I =\", I_sum)"
   ]
  },
  {
   "cell_type": "markdown",
   "metadata": {},
   "source": [
    "## 2. Вычислить значение интеграла $I$ по формулам трапеций и Симпсона.\n",
    "Cчитать отрезок $[1,1.44]$ элементарным отрезком интегрирования.\n",
    "Предварительно задать многочлен $P_n(x)$."
   ]
  },
  {
   "cell_type": "markdown",
   "metadata": {},
   "source": [
    "Квадратурная формула трапеции: $\\int\\limits^b_a f(x)dx \\approx h \\left( \\frac{f_0 + f_n}{2} + \\sum\\limits_{i=1}^{n-1} f_i \\right)$\n",
    "\n",
    "Квадратурная формула Симпсона: $\\int\\limits_a^b f(x)dx\\approx\\frac{h}{6}\\left(f(x_0)+f(x_n)+4\\sum\\limits_{i=0}^{n-1}f_{i-1/2}+2\\sum\\limits_{i=1}^{n-1}f_{i}\\right)$\n",
    "\n",
    "\n",
    "Если считать $[1, 1.44]$ элементарным отрезаком интегрировани, то \n",
    "\n",
    "по формуле трапеции: $\\int\\limits^b_a f(x)dx \\approx \\frac{ f(a) + f(b) }{2} (b - a)$\n",
    "\n",
    "по Формуле Симпсона: $\\int\\limits_a^b f(x)dx \\approx \\frac{b-a}{6} \\left( f(a)  + f(b) + 4 f\\left(\\frac{a+b}{2}\\right) \\right)$"
   ]
  },
  {
   "cell_type": "code",
   "execution_count": 2,
   "metadata": {
    "collapsed": true
   },
   "outputs": [],
   "source": [
    "def P(x):\n",
    "    p = 0\n",
    "    for i in range(len(c)):\n",
    "        p += c[i] * x**i\n",
    "    return p"
   ]
  },
  {
   "cell_type": "code",
   "execution_count": 3,
   "metadata": {},
   "outputs": [
    {
     "name": "stdout",
     "output_type": "stream",
     "text": [
      "По формуле трапеции I = 2.6608950016\n",
      "По формуле Симпсона I = 2.54942605867\n"
     ]
    }
   ],
   "source": [
    "I_trap = (P(a) + P(b))/2 * (b-a)\n",
    "print(\"По формуле трапеции I =\", I_trap)\n",
    "\n",
    "I_simp = (b - a)/6 * (P(a) + P(b) + 4*P((a + b)/2))\n",
    "print(\"По формуле Симпсона I =\", I_simp)"
   ]
  },
  {
   "cell_type": "code",
   "execution_count": 4,
   "metadata": {},
   "outputs": [
    {
     "name": "stdout",
     "output_type": "stream",
     "text": [
      "Абсолютная погрешность по формуле трапеции:  0.111537658027\n",
      "Абсолютная погрешность по формуле Симпсона:  6.87150933332e-05\n"
     ]
    }
   ],
   "source": [
    "print(\"Абсолютная погрешность по формуле трапеции: \", abs(I_trap - I_sum))\n",
    "print(\"Абсолютная погрешность по формуле Симпсона: \", abs(I_simp - I_sum))"
   ]
  },
  {
   "cell_type": "markdown",
   "metadata": {
    "collapsed": true
   },
   "source": [
    "## 4. Оценка шагов интегрирования.\n",
    "Используя выражение для остаточных членов интегрирования (см. ПРИЛОЖЕНИЕ 8.C), оценить шаги интегрирования, при которых величина погрешности каждой квадратурной формулы будет меньше 0.0001"
   ]
  },
  {
   "cell_type": "markdown",
   "metadata": {},
   "source": [
    "Оценка погрешностей для составных фомул:\n",
    "\n",
    "Трапеции $|R_{trap}|=|I-I_{trap}|\\le \\frac{M_2(b-a)h^2}{12}$, где $M_2 = \\max\\limits_{[a,b]}|f^{(2)}(x)|$\n",
    "\n",
    "Симпсона $|R_{simp}|=|I-I_{simp}|\\le \\frac{M_4(b-a)h^4}{2880}$, где $M_4 = \\max\\limits_{[a,b]}|f^{(4)}(x)|$"
   ]
  },
  {
   "cell_type": "markdown",
   "metadata": {},
   "source": [
    "### Зададим погрешность, посмотрим где вторая и четвертая производные достигают максимума на отрезке, затем посчитаем оценки для шага, выразив h из формул выше, взяв |R| < 0.0001 "
   ]
  },
  {
   "cell_type": "code",
   "execution_count": 5,
   "metadata": {
    "collapsed": true
   },
   "outputs": [],
   "source": [
    "epsilon = 1e-4\n",
    "\n",
    "from scipy.misc import derivative\n",
    "dfdx2 = derivative(P, np.linspace(a, b, 44), dx = 2.0)\n",
    "dfdx4 = derivative(P, np.linspace(a, b, 44), dx = 4.0)"
   ]
  },
  {
   "cell_type": "code",
   "execution_count": 6,
   "metadata": {},
   "outputs": [
    {
     "data": {
      "image/png": "[encoded data removed]",
      "text/plain": [
       "<matplotlib.figure.Figure at 0x25184a675f8>"
      ]
     },
     "metadata": {},
     "output_type": "display_data"
    }
   ],
   "source": [
    "%matplotlib inline\n",
    "\n",
    "import matplotlib\n",
    "import numpy as np\n",
    "import matplotlib.pyplot as plt\n",
    "\n",
    "plt.figure(figsize = (20,6))\n",
    "\n",
    "plt.subplot(121)\n",
    "plt.plot(np.linspace(a, b, 44), dfdx2)\n",
    "plt.xlabel(\"x\")\n",
    "plt.ylabel(r\"$P^2(x)$\")\n",
    "plt.title(r\"plot of $P^{(2)}(x)$\")\n",
    "\n",
    "plt.subplot(122)\n",
    "plt.plot(np.linspace(a, b, 44), dfdx4)\n",
    "plt.xlabel(\"x\")\n",
    "plt.ylabel(r\"$P^4(x)$\")\n",
    "plt.title(r\"plot of $P^{(4)}(x)$\")\n",
    "plt.show()"
   ]
  },
  {
   "cell_type": "markdown",
   "metadata": {},
   "source": [
    "### Максимумы производных на правом конце отрезка"
   ]
  },
  {
   "cell_type": "code",
   "execution_count": 7,
   "metadata": {},
   "outputs": [
    {
     "name": "stdout",
     "output_type": "stream",
     "text": [
      "Вторая производная: 27.850528 \n",
      "Оценка шага интегрирования для метода трапеций <= 0.00989572386965\n",
      "Четвертая производная: 70.810528 \n",
      "Оценка шага интегрирования для метода трапеций <= 0.310070532172\n",
      "\n",
      "Скорректируем шаг (см приложение 8В) как длина_отрезка_инт/количество_шагов\n",
      "Шаг метода трапеции: 0.00977777777778 \n",
      "Шаг метода Симпсона: 0.22\n"
     ]
    }
   ],
   "source": [
    "M2 = abs(derivative(P, b, dx = 2.0))\n",
    "M4 = abs(derivative(P, b, dx = 4.0))\n",
    "\n",
    "h_trap = np.sqrt(12*epsilon/M2/(b-a))\n",
    "h_simp = (2880*epsilon/M4/(b-a))**0.25\n",
    "\n",
    "print(\"Вторая производная:\", M2, \"\\nОценка шага интегрирования для метода трапеций <=\", h_trap)\n",
    "print(\"Четвертая производная:\", M4, \"\\nОценка шага интегрирования для метода трапеций <=\", h_simp)\n",
    "\n",
    "\n",
    "print(\"\\nСкорректируем шаг (см приложение 8В) как длина_отрезка_инт/количество_шагов\")\n",
    "h_trap = (b-a)/(np.ceil((b-a)/h_trap))\n",
    "h_simp = (b-a)/(np.ceil((b-a)/h_simp))\n",
    "\n",
    "print(\"Шаг метода трапеции:\", h_trap, \"\\nШаг метода Симпсона:\", h_simp)"
   ]
  },
  {
   "cell_type": "markdown",
   "metadata": {},
   "source": [
    "## 5. Вычислить значения интеграла по составной квадратурной формуле с найденным шагом.\n",
    "(см. ПРИЛОЖЕНИЕ 8.B)."
   ]
  },
  {
   "cell_type": "markdown",
   "metadata": {},
   "source": [
    "Квадратурная формула трапеции: $\\int\\limits^b_a f(x)dx \\approx h \\left( \\frac{f_0 + f_n}{2} + \\sum\\limits_{i=1}^{n-1} f_i \\right)$\n",
    "\n",
    "Квадратурная формула Симпсона: $\\int\\limits_a^b f(x)dx\\approx\\frac{h}{6}\\left(f(x_0)+f(x_n)+4\\sum\\limits_{i=0}^{n-1}f_{i-1/2}+2\\sum\\limits_{i=1}^{n-1}f_{i}\\right)$"
   ]
  },
  {
   "cell_type": "code",
   "execution_count": 8,
   "metadata": {},
   "outputs": [
    {
     "name": "stdout",
     "output_type": "stream",
     "text": [
      "По составной формуле трапеции I = 2.54941255956\n",
      "По составной формуле трапеции I = 2.54936163827\n"
     ]
    }
   ],
   "source": [
    "I_trap_full = h_trap*((P(a)+P(b))/2 + np.sum(P(np.arange(a + h_trap, b, h_trap))))\n",
    "print(\"По составной формуле трапеции I =\", I_trap_full)\n",
    "I_simp_full = h_simp/6*(P(a) + P(b) + 2*np.sum(P(np.arange(a + h_simp, b, h_simp))) + 4*np.sum(P(np.arange(a + h_simp/2, b, h_simp))))\n",
    "print(\"По составной формуле трапеции I =\", I_simp_full)"
   ]
  },
  {
   "cell_type": "markdown",
   "metadata": {},
   "source": [
    "## 6. Найти абсолютные погрешности результатов."
   ]
  },
  {
   "cell_type": "code",
   "execution_count": 9,
   "metadata": {},
   "outputs": [
    {
     "name": "stdout",
     "output_type": "stream",
     "text": [
      "Абсолютная погрешность по составной квадратурной формуле трапеции:  5.52159914506e-05\n",
      "Абсолютная погрешность по составной квадратурной формуле Симпсона:  4.29469333296e-06\n"
     ]
    }
   ],
   "source": [
    "print(\"Абсолютная погрешность по составной квадратурной формуле трапеции: \", abs(I_trap_full - I_sum))\n",
    "print(\"Абсолютная погрешность по составной квадратурной формуле Симпсона: \", abs(I_simp_full - I_sum))"
   ]
  },
  {
   "cell_type": "markdown",
   "metadata": {},
   "source": [
    "# Задача 8.3 (вариант 1)\n",
    "Вычислить значение интеграла $\\int\\limits_a^b \\ f(x)dx$ аналитически и, используя формулу центральных прямоугольников,  с шагами : $h=\\frac{b-a}{2},\\frac{b-a}{3},\\dots,\\frac{b-a}{20}$. При указанных значениях $h$ найти абсолютную погрешность и оценки теоретической абсолютной погрешности. На одном чертеже построить графики найденных погрешностей."
   ]
  },
  {
   "cell_type": "markdown",
   "metadata": {},
   "source": [
    "Дано:\n",
    "\n",
    "$f(x) = (2x)^3 \\cos(x)$\n",
    "\n",
    "$[a, b] = [0, 1.5]$\n",
    "\n",
    "## 1. Аналитическое решение.\n",
    "\n",
    "$\\int\\limits_a^b f(x)dx = \\int\\limits_0^{1.5} (2x)^3 \\cos(x)dx = 8 \\int\\limits_0^{1.5} x^3 \\cos(x)dx = \\left< u=x^3; dv = cos(x)dx\\right> = 8((x^3\\sin(x)-3)|_0^{1.5} - \\int\\limits_0^{1.5} x^2\\sin(x)dx)$\n",
    "\n",
    "$\\int\\limits_0^{1.5} x^2\\sin(x)dx = <u = x^2; dv = \\sin(x)dx> = -x^2\\cos(x)|_0^{1.5} + 2\\int\\limits_0^{1.5} x\\cos(x)dx$\n",
    "\n",
    "$\\int\\limits_0^{1.5} x\\cos(x)dx = x\\sin(x)|_0^{1.5}+\\cos(x)$\n",
    "\n",
    "$\\int\\limits_0^{1.5} (2x)^3 \\cos(x)dx = 8 ((3x^2 - 6) \\cos(x) + x (x^2 - 6) sin(x))|_0^{1.5} = 3.53715$"
   ]
  },
  {
   "cell_type": "code",
   "execution_count": 10,
   "metadata": {
    "collapsed": true
   },
   "outputs": [],
   "source": [
    "I = 3.53715"
   ]
  },
  {
   "cell_type": "markdown",
   "metadata": {},
   "source": [
    "## 2. Метод центральных прямоугольников.\n",
    "\n",
    "Полная формула центральных прямогуольников $\\int\\limits_a^b \\ f(x)dx \\approx h\\sum\\limits_{i=0}^{n-1} f_{i+1/2}$\n",
    "\n",
    "Оценка погрешности для центральных прямоугольников $|R_{rect}|=|I-I_{rect}|\\le \\frac{M_2(b-a)h^2}{24}$, где $M_2 = \\max\\limits_{[a,b]}|f^{(2)}(x)|$"
   ]
  },
  {
   "cell_type": "code",
   "execution_count": 11,
   "metadata": {
    "collapsed": true
   },
   "outputs": [],
   "source": [
    "def f(x):\n",
    "    return (2*x)**3*np.cos(x)\n",
    "a, b = (0, 1.5)"
   ]
  },
  {
   "cell_type": "code",
   "execution_count": 12,
   "metadata": {
    "collapsed": true
   },
   "outputs": [],
   "source": [
    "x = np.linspace(a, b, 50)\n",
    "dfdx2 = derivative(f, x, dx = 2.0)"
   ]
  },
  {
   "cell_type": "code",
   "execution_count": 13,
   "metadata": {},
   "outputs": [
    {
     "data": {
      "image/png": "[encoded data removed]",
      "text/plain": [
       "<matplotlib.figure.Figure at 0x25187ea8320>"
      ]
     },
     "metadata": {},
     "output_type": "display_data"
    }
   ],
   "source": [
    "plt.plot(x, dfdx2)\n",
    "plt.xlabel(\"x\")\n",
    "plt.ylabel(r\"$f^{(2)}(x)$\")\n",
    "plt.title(r\"plot of $f^{(2)}(x)$\")\n",
    "plt.show()"
   ]
  },
  {
   "cell_type": "markdown",
   "metadata": {},
   "source": [
    "### Максимум второй производной на правом конце отрезка"
   ]
  },
  {
   "cell_type": "code",
   "execution_count": 14,
   "metadata": {
    "collapsed": true
   },
   "outputs": [],
   "source": [
    "M2 = abs(derivative(f, b, dx = 2.0))"
   ]
  },
  {
   "cell_type": "code",
   "execution_count": 17,
   "metadata": {},
   "outputs": [
    {
     "name": "stdout",
     "output_type": "stream",
     "text": [
      "По составной формуле трапеции I = 3.97794593599\n",
      "По составной формуле трапеции I = 3.75873794879\n",
      "По составной формуле трапеции I = 3.66659178441\n",
      "По составной формуле трапеции I = 3.62138603572\n",
      "По составной формуле трапеции I = 3.59616756182\n",
      "По составной формуле трапеции I = 3.58073892479\n",
      "По составной формуле трапеции I = 3.57063609796\n",
      "По составной формуле трапеции I = 3.56366930442\n",
      "По составной формуле трапеции I = 3.55866593067\n",
      "По составной формуле трапеции I = 3.55495324948\n",
      "По составной формуле трапеции I = 3.55212333846\n",
      "По составной формуле трапеции I = 3.54991735211\n",
      "По составной формуле трапеции I = 3.54816469818\n",
      "По составной формуле трапеции I = 3.54674928276\n",
      "По составной формуле трапеции I = 3.54558989686\n",
      "По составной формуле трапеции I = 3.54462836337\n",
      "По составной формуле трапеции I = 3.54382212646\n",
      "По составной формуле трапеции I = 3.54313947882\n",
      "По составной формуле трапеции I = 3.54255640645\n"
     ]
    }
   ],
   "source": [
    "I_rect_full = []\n",
    "prec = []\n",
    "dev = np.arange(2, 21)\n",
    "for i, d in enumerate(dev):\n",
    "    h_rect = (b-a)/d\n",
    "    prec.append(M2*(b-a)*h_rect**2/24)\n",
    "    I_rect_full.append(h_rect*(np.sum(f(np.arange(a + h_rect/2, b, h_rect)))))\n",
    "    print(\"По составной формуле трапеции I =\", I_rect_full[i])"
   ]
  },
  {
   "cell_type": "code",
   "execution_count": 18,
   "metadata": {},
   "outputs": [
    {
     "data": {
      "image/png": "[encoded data removed]",
      "text/plain": [
       "<matplotlib.figure.Figure at 0x251883aa940>"
      ]
     },
     "metadata": {},
     "output_type": "display_data"
    }
   ],
   "source": [
    "fig, ax = plt.subplots(figsize=(10,6))\n",
    "\n",
    "I_rect_full = np.array(I_rect_full)\n",
    "prec = np.array(prec)\n",
    "ax.plot(dev, np.abs(I - I_rect_full), label =\"abs prec\")\n",
    "ax.plot(dev, prec, 'r', label = \"teor prec\")\n",
    "ax.set_ylabel(\"Погрешность\")\n",
    "ax.set_xlabel(\"Количество шагов (отрезков)\")\n",
    "ax.legend();\n",
    "plt.show()"
   ]
  },
  {
   "cell_type": "code",
   "execution_count": null,
   "metadata": {
    "collapsed": true
   },
   "outputs": [],
   "source": []
  }
 ],
 "metadata": {
  "kernelspec": {
   "display_name": "Python 3",
   "language": "python",
   "name": "python3"
  },
  "language_info": {
   "codemirror_mode": {
    "name": "ipython",
    "version": 3
   },
   "file_extension": ".py",
   "mimetype": "text/x-python",
   "name": "python",
   "nbconvert_exporter": "python",
   "pygments_lexer": "ipython3",
   "version": "3.6.3"
  }
 },
 "nbformat": 4,
 "nbformat_minor": 2
}
